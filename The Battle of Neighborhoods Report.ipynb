{
 "cells": [
  {
   "cell_type": "markdown",
   "metadata": {},
   "source": [
    "## Introduction/Business Problem "
   ]
  },
  {
   "cell_type": "markdown",
   "metadata": {},
   "source": [
    "The aim of this project is to find an optimal neighborhood for a restaurant in New York. \n",
    "\n",
    "I will cluster all neighborhoods in New York, and based on the clustering, I will analyze the popular venues in these areas. Potential business owners can choose the location of a new restaurant according to the analytical results of this project. Furthermore, they could decide on the type of restaurant based on their popularity of each type in their desired neighborhood. \n",
    "\n",
    "This projects provides guidelines for potential investors by pointing out neighborhoods where they are more likely to succeed in."
   ]
  },
  {
   "cell_type": "markdown",
   "metadata": {},
   "source": [
    "## Data"
   ]
  },
  {
   "cell_type": "markdown",
   "metadata": {},
   "source": [
    "Data on New York neighborhoods is from the Json file from earlier part of the course. This dataset contains the 5 boroughs of New York and the neighborhoods that exist in each borough as well as the the latitude and longitude coordinates of each neighborhood. I will use this data to cluster the neighborhoods in New York using a K-Means algorithm. Then I will utilize Four Square API to determine the most popular venues in neighborhoods, and combine these data sources to figure out the most popular venues in neighborhoods in each cluster.\n"
   ]
  }
 ],
 "metadata": {
  "kernelspec": {
   "display_name": "Python 3",
   "language": "python",
   "name": "python3"
  },
  "language_info": {
   "codemirror_mode": {
    "name": "ipython",
    "version": 3
   },
   "file_extension": ".py",
   "mimetype": "text/x-python",
   "name": "python",
   "nbconvert_exporter": "python",
   "pygments_lexer": "ipython3",
   "version": "3.8.5"
  }
 },
 "nbformat": 4,
 "nbformat_minor": 4
}
